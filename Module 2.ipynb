{
 "cells": [
  {
   "cell_type": "code",
   "execution_count": null,
   "id": "aec28962",
   "metadata": {},
   "outputs": [],
   "source": [
    "                            #module 2\n",
    "    "
   ]
  },
  {
   "cell_type": "code",
   "execution_count": null,
   "id": "348f3ff9",
   "metadata": {},
   "outputs": [],
   "source": []
  },
  {
   "cell_type": "code",
   "execution_count": null,
   "id": "6e082dcb",
   "metadata": {},
   "outputs": [],
   "source": [
    "#Que 1 : Write a Python program to check if a number is positive, negative or zero.\n",
    "\n",
    "\n",
    "num = int(input('enter a number'))\n",
    "if num == 0:\n",
    "    print('zero')\n",
    "elif num >= 1:\n",
    "    print('it is positive')\n",
    "else:\n",
    "    print('it is nagative')"
   ]
  },
  {
   "cell_type": "code",
   "execution_count": null,
   "id": "24f4c1b8",
   "metadata": {},
   "outputs": [],
   "source": []
  },
  {
   "cell_type": "code",
   "execution_count": null,
   "id": "73d3e8c2",
   "metadata": {},
   "outputs": [],
   "source": [
    "# Que 2 : Write a Python program to get the Factorial number of given number.\n",
    "\n",
    "a=8\n",
    "fact=1\n",
    "for i in range(1,a+1):\n",
    "    fact=fact*i\n",
    "print(fact)"
   ]
  },
  {
   "cell_type": "code",
   "execution_count": null,
   "id": "be53ad9f",
   "metadata": {},
   "outputs": [],
   "source": []
  },
  {
   "cell_type": "code",
   "execution_count": null,
   "id": "ffbc93ba",
   "metadata": {},
   "outputs": [],
   "source": [
    "# Que 3: Write a Python program to get the Fibonacci series of given range.\n",
    "\n",
    "a=1\n",
    "fib=0\n",
    "for i in range(9):\n",
    "    a,fib=fib,a+fib\n",
    "\n",
    "    print(a)\n",
    "    \n",
    "    "
   ]
  },
  {
   "cell_type": "code",
   "execution_count": null,
   "id": "2303a697",
   "metadata": {},
   "outputs": [],
   "source": []
  },
  {
   "cell_type": "code",
   "execution_count": null,
   "id": "265fddc2",
   "metadata": {},
   "outputs": [],
   "source": [
    "#Que 4: How memory is managed in Python?\n",
    "\n",
    "As we know, Python uses the dynamic memory allocation which is managed by the Heap data structure. \n",
    "Memory Heap holds the objects and other data structures that will be used in the program. \n",
    "Python memory manager manages the allocation or de-allocation of the heap memory space through the API functions."
   ]
  },
  {
   "cell_type": "code",
   "execution_count": null,
   "id": "948be840",
   "metadata": {},
   "outputs": [],
   "source": []
  },
  {
   "cell_type": "code",
   "execution_count": null,
   "id": "b08d572e",
   "metadata": {},
   "outputs": [],
   "source": [
    "#Que 5: What is the purpose continue statement in python?\n",
    "\n",
    "The continue keyword is used to end the current iteration in a for loop (or a while loop), \n",
    "and continues to the next iteration."
   ]
  },
  {
   "cell_type": "code",
   "execution_count": null,
   "id": "14349df6",
   "metadata": {},
   "outputs": [],
   "source": []
  },
  {
   "cell_type": "code",
   "execution_count": null,
   "id": "235a225f",
   "metadata": {},
   "outputs": [],
   "source": [
    "#Que 6 : Write python program that swap two number with temp variable and without temp variable\n",
    "\n",
    "a=10\n",
    "b=20\n",
    "a,b=b,a\n",
    "print(a,b)"
   ]
  },
  {
   "cell_type": "code",
   "execution_count": null,
   "id": "b721fc99",
   "metadata": {},
   "outputs": [],
   "source": []
  },
  {
   "cell_type": "code",
   "execution_count": null,
   "id": "b48c8c94",
   "metadata": {},
   "outputs": [],
   "source": [
    "# Que 7: Write a Python program to find whether a given number is even or odd,\n",
    "#print out an appropriate message to the user.\n",
    "\n",
    "num=int(input('enter a number'))\n",
    "if num % 2 == 0 :\n",
    "    print('entered number is even')\n",
    "else:\n",
    "    print('entered number is odd')"
   ]
  },
  {
   "cell_type": "code",
   "execution_count": null,
   "id": "0aaa3fc9",
   "metadata": {},
   "outputs": [],
   "source": []
  },
  {
   "cell_type": "code",
   "execution_count": null,
   "id": "68b224ee",
   "metadata": {},
   "outputs": [],
   "source": [
    "#Que 8: Write a Python program to test whether a passed letter is a vowel or not.\n",
    "\n",
    "vov='aeiouAEIOU'\n",
    "char=input('enter a character : ')\n",
    "if char in vov:\n",
    "    print('it is vowel')\n",
    "else:\n",
    "    print('is is not vovel')"
   ]
  },
  {
   "cell_type": "code",
   "execution_count": null,
   "id": "9915a92c",
   "metadata": {},
   "outputs": [],
   "source": []
  },
  {
   "cell_type": "code",
   "execution_count": null,
   "id": "e7102d0b",
   "metadata": {},
   "outputs": [],
   "source": [
    "#Que 9: Write a Python program to sum of three given integers.However, if two\n",
    "#values are equal sum will be zero.\n",
    "\n",
    "num1 = int(input('enter a first number'))\n",
    "num2 = int(input('enter a second number'))\n",
    "num3 = int(input('enter a third number'))\n",
    "total=num1+num2+num3\n",
    "if num1==num3 or num1==num2 or num2==num3:\n",
    "    print('0')\n",
    "else:   \n",
    "    print(total)"
   ]
  },
  {
   "cell_type": "code",
   "execution_count": null,
   "id": "cd7e80c6",
   "metadata": {},
   "outputs": [],
   "source": []
  },
  {
   "cell_type": "code",
   "execution_count": null,
   "id": "c3f0d52d",
   "metadata": {},
   "outputs": [],
   "source": [
    "#Que 10: Write a Python program that will return true ifthe two given integervalues\n",
    "#are equal or their sum or difference is 5.\n",
    "\n",
    "num1 = int(input('enter a first number'))\n",
    "num2 = int(input('enter a second number'))\n",
    "\n",
    "if num1 + num2 == 0:\n",
    "    print('it is zero')\n",
    "elif num1 - num2 == 5:\n",
    "    print('it is five')\n",
    "else:\n",
    "    print('invalid')"
   ]
  },
  {
   "cell_type": "code",
   "execution_count": null,
   "id": "468a2b6a",
   "metadata": {},
   "outputs": [],
   "source": []
  },
  {
   "cell_type": "code",
   "execution_count": null,
   "id": "5761d432",
   "metadata": {},
   "outputs": [],
   "source": [
    "#Que 11 : Write a python program to sum of the first n positive integers.\n",
    "\n",
    "n = int(input(\"Enter a positive number: \"))\n",
    "\n",
    "\n",
    "sum_of_integers = (n * (n+1))\n",
    "\n",
    "\n",
    "print(\"The sum of the first\", n, \"positive number is\", sum_of_number)"
   ]
  },
  {
   "cell_type": "code",
   "execution_count": null,
   "id": "7f880c4d",
   "metadata": {},
   "outputs": [],
   "source": []
  },
  {
   "cell_type": "code",
   "execution_count": null,
   "id": "f75e25a7",
   "metadata": {},
   "outputs": [],
   "source": [
    "#Que 12: Write a Python program to calculate the length of a string.\n",
    "\n",
    "a=input('enter a string:')\n",
    "b=len(a)\n",
    "print(b)"
   ]
  },
  {
   "cell_type": "code",
   "execution_count": null,
   "id": "161845f7",
   "metadata": {},
   "outputs": [],
   "source": []
  },
  {
   "cell_type": "code",
   "execution_count": null,
   "id": "a8ecbf6d",
   "metadata": {},
   "outputs": [],
   "source": [
    "#Que 13: Write a Python program to count the number of characters (character\n",
    "#frequency) in a string\n",
    "\n",
    "a=\"enter a string string string s s s s\"\n",
    "c= a.count(\"s\")\n",
    "print(c)"
   ]
  },
  {
   "cell_type": "code",
   "execution_count": null,
   "id": "7e1817b9",
   "metadata": {},
   "outputs": [],
   "source": []
  },
  {
   "cell_type": "code",
   "execution_count": null,
   "id": "cb480eb6",
   "metadata": {},
   "outputs": [],
   "source": [
    "#Que 14: What are negative indexes and why are they used?\n",
    "\n",
    "The negative indexing is the act of indexing from the end of the list with indexing starting \n",
    "at -1 i.e. -1 gives the last element of list,-2 gives the second last element of list and so on.\n",
    "\n",
    "#why are they used ?\n",
    "The use of negative indexing can be done to use or display data from the end of the list and can \n",
    "also be used to reverse a number or string without using other functions."
   ]
  },
  {
   "cell_type": "code",
   "execution_count": null,
   "id": "dff7dc5c",
   "metadata": {},
   "outputs": [],
   "source": []
  },
  {
   "cell_type": "code",
   "execution_count": null,
   "id": "e3c8ac5b",
   "metadata": {},
   "outputs": [],
   "source": [
    "#Que 15: Write a Python program to count occurrences of a substring in a string.\n",
    "\n",
    "\n",
    "a=\"enter a string string string s s s s\"\n",
    "c= a.count(\"s\")\n",
    "print(c)"
   ]
  },
  {
   "cell_type": "code",
   "execution_count": null,
   "id": "867a4a74",
   "metadata": {},
   "outputs": [],
   "source": []
  },
  {
   "cell_type": "code",
   "execution_count": null,
   "id": "b01eeae3",
   "metadata": {},
   "outputs": [],
   "source": [
    "#Que 16: Write a Python program to count the occurrences of each word in a given\n",
    "#sentence\n",
    "\n",
    "a=\"enter a string string string s s s s\"\n",
    "c= a.count(\"s\")\n",
    "print(c)"
   ]
  },
  {
   "cell_type": "code",
   "execution_count": null,
   "id": "144da110",
   "metadata": {},
   "outputs": [],
   "source": []
  },
  {
   "cell_type": "code",
   "execution_count": null,
   "id": "a9a0ca4c",
   "metadata": {},
   "outputs": [],
   "source": [
    "#Que 17: Write a Python program to get a single string from two given strings,\n",
    "#separated by a space and swap the first two characters of each string.\n",
    "\n",
    "a=input('enter first name : ')\n",
    "b=input('enter second name : ')\n",
    "\n",
    "string1=b[:2]+a[2:]\n",
    "string2=a[:2]+b[2:]\n",
    "\n",
    "print(f'{string1} {string2}')"
   ]
  },
  {
   "cell_type": "code",
   "execution_count": null,
   "id": "9f3dfe36",
   "metadata": {},
   "outputs": [],
   "source": []
  },
  {
   "cell_type": "code",
   "execution_count": null,
   "id": "02591885",
   "metadata": {},
   "outputs": [],
   "source": [
    "#Que 18: Write a Python program to add 'ing' at the end of a given string (length\n",
    "# should be at least 3). If the given string already ends with 'ing' then add 'ly'\n",
    "# insteadif the string length of the given string is less than 3, leave it\n",
    "# unchanged.\n",
    "\n",
    "s='running'\n",
    "if len(s) <= 3:\n",
    "        print(s)\n",
    "elif s[-3:] == 'ing':\n",
    "        print(s+'ly')\n",
    "        \n",
    "else:\n",
    "        print(s+'ing')"
   ]
  },
  {
   "cell_type": "code",
   "execution_count": null,
   "id": "a722b2e6",
   "metadata": {},
   "outputs": [],
   "source": []
  },
  {
   "cell_type": "code",
   "execution_count": null,
   "id": "163505d3",
   "metadata": {},
   "outputs": [],
   "source": [
    "#Que 19: Write a Python program to find the first appearance of the substring 'not'\n",
    "# and 'poor' from a given string, if 'not' follows the 'poor', replace the whole\n",
    "# 'not'...'poor'substring with 'good'. Return the resulting string.\n",
    "\n",
    "\n",
    "string=\"i know you are not poor\"\n",
    "a = string.find('not')    \n",
    "q = string.find('poor')\n",
    "    \n",
    "if a != -1 and q!= -1 and a < q:\n",
    "    print(string[:a] + 'good' + string[q+4:])\n",
    "else:\n",
    "    print(string)"
   ]
  },
  {
   "cell_type": "code",
   "execution_count": null,
   "id": "d123c4e7",
   "metadata": {},
   "outputs": [],
   "source": []
  },
  {
   "cell_type": "code",
   "execution_count": null,
   "id": "728c5eec",
   "metadata": {},
   "outputs": [],
   "source": [
    "#Que 20: Write a Python function that takes a list of words and returns the length\n",
    "# of the longest one.\n",
    "\n",
    "def list(a,b):\n",
    "    if len(a) > len(b):\n",
    "        print(len(a))\n",
    "    if len(b) > len(a):\n",
    "        print(len(b))\n",
    "\n",
    "list('vilas','zoo')"
   ]
  },
  {
   "cell_type": "code",
   "execution_count": null,
   "id": "965dd883",
   "metadata": {},
   "outputs": [],
   "source": []
  },
  {
   "cell_type": "code",
   "execution_count": null,
   "id": "f0a41a90",
   "metadata": {},
   "outputs": [],
   "source": [
    "#Que 21: Write a Python function to reverses a string if its length is a multiple of 4.\n",
    "\n",
    "a=input()\n",
    "if len(a) % 4 == 0:\n",
    "    print( a[::-1])\n",
    "else:\n",
    "    print(a)"
   ]
  },
  {
   "cell_type": "code",
   "execution_count": null,
   "id": "d5bcbe52",
   "metadata": {},
   "outputs": [],
   "source": []
  },
  {
   "cell_type": "code",
   "execution_count": null,
   "id": "1b89c25b",
   "metadata": {},
   "outputs": [],
   "source": [
    "#Que 22: Write a Python program to get a string made of the first 2 and the last 2\n",
    "# chars from a given a string. If the string length islessthan 2,return instead\n",
    "# of the empty string.\n",
    "\n",
    "\n",
    "a=input('enter the characters')\n",
    "\n",
    "if len(a) > 2:\n",
    "    b=a[:2] + a[-2:]\n",
    "    print(b)\n",
    "else:\n",
    "    print('')"
   ]
  },
  {
   "cell_type": "code",
   "execution_count": null,
   "id": "d3d02f7a",
   "metadata": {},
   "outputs": [],
   "source": []
  },
  {
   "cell_type": "code",
   "execution_count": null,
   "id": "e1a4ab87",
   "metadata": {},
   "outputs": [],
   "source": [
    "#Que 23: Write a Python function to insert a string in the middle of a string.\n",
    "\n",
    "a =input('enter a string you want to change :-')  \n",
    "\n",
    "b =input(\"enter a word with you want to add in center :-\")\n",
    "\n",
    "c = a.split()\n",
    "d = len(c) // 2\n",
    " \n",
    "x = c[:d] + [b] + c[d:] \n",
    "\n",
    "x = ' '.join(x)\n",
    " \n",
    "print(str(x))"
   ]
  }
 ],
 "metadata": {
  "kernelspec": {
   "display_name": "Python 3 (ipykernel)",
   "language": "python",
   "name": "python3"
  },
  "language_info": {
   "codemirror_mode": {
    "name": "ipython",
    "version": 3
   },
   "file_extension": ".py",
   "mimetype": "text/x-python",
   "name": "python",
   "nbconvert_exporter": "python",
   "pygments_lexer": "ipython3",
   "version": "3.9.13"
  }
 },
 "nbformat": 4,
 "nbformat_minor": 5
}
