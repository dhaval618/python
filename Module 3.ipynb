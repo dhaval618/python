{
 "cells": [
  {
   "cell_type": "code",
   "execution_count": null,
   "id": "ec64ba48",
   "metadata": {},
   "outputs": [],
   "source": [
    "                                #module 3"
   ]
  },
  {
   "cell_type": "code",
   "execution_count": null,
   "id": "6d46b6ba",
   "metadata": {},
   "outputs": [],
   "source": []
  },
  {
   "cell_type": "code",
   "execution_count": null,
   "id": "a6320580",
   "metadata": {},
   "outputs": [],
   "source": [
    "#Question 1 : What is List? How will you reverse a list?\n",
    "\n",
    "In Python, a list is a type of sequence data structure that can hold an ordered collection of elements,\n",
    "which can be of any type (such as numbers, strings, or other objects). \n",
    "\n",
    "Lists are created using square brackets, and the elements are separated by commas.\n",
    "\n",
    "#How will you reverse a list?\n",
    "\n",
    "For Reverse a list in python you can use reverse method like mylist.reverse()"
   ]
  },
  {
   "cell_type": "code",
   "execution_count": null,
   "id": "2b5d25fb",
   "metadata": {},
   "outputs": [],
   "source": []
  },
  {
   "cell_type": "code",
   "execution_count": null,
   "id": "6abdb223",
   "metadata": {},
   "outputs": [],
   "source": [
    "#Question 2 : How will you remove last object from a list?\n",
    "\n",
    "\n",
    "l1=[12, 48, 23, 42 ]\n",
    "l1.pop() \n",
    "l1=[12, 48, 23, 42 ]\n",
    "l1[-1] By using this , we can access and know the last element which is 42"
   ]
  },
  {
   "cell_type": "code",
   "execution_count": null,
   "id": "985571a4",
   "metadata": {},
   "outputs": [],
   "source": []
  },
  {
   "cell_type": "code",
   "execution_count": null,
   "id": "7661e1f7",
   "metadata": {},
   "outputs": [],
   "source": [
    "#Question 3: Differentiate between append () and extend () methods?\n",
    "\n",
    "#append()\n",
    "The append() method adds a single element to the end of a list. \n",
    "The element can be of any type, and it will be added as a new item in the list.\n",
    "\n",
    "#extend()\n",
    "The extend() method add multiple elements to the end of a list. \n",
    "It takes an iterable (such as a list, tuple, or string) as its argument, and adds each element in the iterable \n",
    "as a new item in the list."
   ]
  },
  {
   "cell_type": "code",
   "execution_count": null,
   "id": "2ef0a2a6",
   "metadata": {},
   "outputs": [],
   "source": []
  },
  {
   "cell_type": "code",
   "execution_count": null,
   "id": "4673d5e3",
   "metadata": {},
   "outputs": [],
   "source": [
    "#Question 4: Write a Python function to get the largest number, smallest num and sum of all from a list.\n",
    "\n",
    "list1=[11,21,543,67545,86,23]\n",
    "print(max(list1))\n",
    "print(min(list1))\n",
    "print(sum(list1))"
   ]
  },
  {
   "cell_type": "code",
   "execution_count": null,
   "id": "df77e3d4",
   "metadata": {},
   "outputs": [],
   "source": []
  },
  {
   "cell_type": "code",
   "execution_count": null,
   "id": "704bcdec",
   "metadata": {},
   "outputs": [],
   "source": [
    "#Question 7 : Write a Python program to remove duplicates from a list.\n",
    "\n",
    "lst=[23,5,3,67,3,23,23,100,666,1,1,12]\n",
    "a=set(lst)\n",
    "b=list(a)\n",
    "print(b)"
   ]
  },
  {
   "cell_type": "code",
   "execution_count": null,
   "id": "301b6365",
   "metadata": {},
   "outputs": [],
   "source": []
  },
  {
   "cell_type": "code",
   "execution_count": null,
   "id": "ad1be42a",
   "metadata": {},
   "outputs": [],
   "source": [
    "#Question 8 : Write a Python program to check a list is empty or not.\n",
    "\n",
    "list1=[1,5,4,3.5,'lion',True]\n",
    "if len(list1)==0:\n",
    "    print('The List is empty')\n",
    "else:\n",
    "    print('The List is not empty')"
   ]
  },
  {
   "cell_type": "code",
   "execution_count": null,
   "id": "87370194",
   "metadata": {},
   "outputs": [],
   "source": []
  },
  {
   "cell_type": "code",
   "execution_count": null,
   "id": "ea691ecb",
   "metadata": {},
   "outputs": [],
   "source": [
    "#Question 9 : Write a Python function that takes two lists and returns true if they have at least one common member.\n",
    "\n",
    "def has_common_member(list1, list2):\n",
    "    for item in list1:\n",
    "        if item in list2:\n",
    "            return True\n",
    "    return False\n",
    "\n",
    "list1 = [1, 2, 3, 4, 5]\n",
    "list2 = [6, 2, 8, 9, 10]\n",
    "result1 = has_common_member(list1, list2)\n",
    "\n",
    "print(result1)"
   ]
  },
  {
   "cell_type": "code",
   "execution_count": null,
   "id": "705764fd",
   "metadata": {},
   "outputs": [],
   "source": []
  },
  {
   "cell_type": "code",
   "execution_count": null,
   "id": "537e17d0",
   "metadata": {},
   "outputs": [],
   "source": [
    "#Question 10 : Write a Python program to generate and print a list of first and last 5 elements \n",
    "# where the values are square of numbers between 1 and 30\n",
    "\n",
    "my_list = [i**2 for i in range(1, 31)]\n",
    "print(\"First 5 elements:\")\n",
    "print(my_list[:5])\n",
    "print(\"Last 5 elements:\")\n",
    "print(my_list[-5:])"
   ]
  },
  {
   "cell_type": "code",
   "execution_count": null,
   "id": "e8bd61f5",
   "metadata": {},
   "outputs": [],
   "source": []
  },
  {
   "cell_type": "code",
   "execution_count": null,
   "id": "86b91c8d",
   "metadata": {},
   "outputs": [],
   "source": [
    "#Question 11: Write a Python function that takes a list and returns a new list with unique elements of the first list.\n",
    "\n",
    "lst=[11,5,3,133,3,2,2,2,3,3,3,4,4,4,4,454,100,666,1,1,12]\n",
    "a=set(lst)\n",
    "my_set=a\n",
    "my_list=list(my_set)\n",
    "print(my_list)"
   ]
  },
  {
   "cell_type": "code",
   "execution_count": null,
   "id": "e3ca8781",
   "metadata": {},
   "outputs": [],
   "source": []
  },
  {
   "cell_type": "code",
   "execution_count": null,
   "id": "9883e597",
   "metadata": {},
   "outputs": [],
   "source": [
    "#Question 12: Write a Python program to convert a list of characters into a string.\n",
    "\n",
    "char_list = ['H', 'e', 'l', 'l', 'o', 'h', 'i']\n",
    "string = ''.join(char_list)\n",
    "print(string)"
   ]
  },
  {
   "cell_type": "code",
   "execution_count": null,
   "id": "233b095d",
   "metadata": {},
   "outputs": [],
   "source": []
  },
  {
   "cell_type": "code",
   "execution_count": null,
   "id": "b31b8299",
   "metadata": {},
   "outputs": [],
   "source": [
    "#Question 13: Write a Python program to select an item randomly from a list.\n",
    "\n",
    "import random\n",
    "items = ['apple', 'banana', 'orange', 'pear', 'grape']\n",
    "random_item = random.choice(items)\n",
    "print(random_item)"
   ]
  },
  {
   "cell_type": "code",
   "execution_count": null,
   "id": "0cbf8858",
   "metadata": {},
   "outputs": [],
   "source": []
  },
  {
   "cell_type": "code",
   "execution_count": null,
   "id": "4a852fa6",
   "metadata": {},
   "outputs": [],
   "source": [
    "#Question 14: Write a Python program to find the second smallest number in a list.\n",
    "\n",
    "lst=[11,5,3,133,3,54,100,666,1,12]\n",
    "lst.sort()\n",
    "a=lst[1]\n",
    "print('this is sec_small:',a)"
   ]
  },
  {
   "cell_type": "code",
   "execution_count": null,
   "id": "ccc964a2",
   "metadata": {},
   "outputs": [],
   "source": []
  },
  {
   "cell_type": "code",
   "execution_count": null,
   "id": "d25fb01b",
   "metadata": {},
   "outputs": [],
   "source": [
    "#Question 15: Write a Python program to get unique values from a list\n",
    "\n",
    "lst=[11,5,3,133,3,2,2,2,3,3,3,4,4,4,4,454,100,666,1,1,12]\n",
    "a=set(lst)\n",
    "b=a\n",
    "my_list=list(b)\n",
    "print(my_list)"
   ]
  },
  {
   "cell_type": "code",
   "execution_count": null,
   "id": "ab8a2602",
   "metadata": {},
   "outputs": [],
   "source": []
  },
  {
   "cell_type": "code",
   "execution_count": null,
   "id": "4bfaa751",
   "metadata": {},
   "outputs": [],
   "source": [
    "\n",
    "#Question 16: Write a Python program to check whether a list contains a sub list\n",
    "\n",
    "my_list = [1, 2, 3, [4, 5], 6, 7]\n",
    "sub_list = [4, 5]\n",
    "if sub_list in my_list:\n",
    "    print(\"The list contains the sub list\")\n",
    "else:\n",
    "    print(\"The list does not contain the sub list\")"
   ]
  },
  {
   "cell_type": "code",
   "execution_count": null,
   "id": "3a15df41",
   "metadata": {},
   "outputs": [],
   "source": []
  },
  {
   "cell_type": "code",
   "execution_count": null,
   "id": "530e77cc",
   "metadata": {},
   "outputs": [],
   "source": [
    "#Question 17: Write a Python program to split a list into different variables.\n",
    "\n",
    "my_list = [11,234,534,74,27,34,90]\n",
    "\n",
    "a, b, c, d, e = my_list\n",
    "\n",
    "print(a)\n",
    "print(b)\n",
    "print(c)\n",
    "print(d)\n",
    "print(e)"
   ]
  },
  {
   "cell_type": "code",
   "execution_count": null,
   "id": "c595587f",
   "metadata": {},
   "outputs": [],
   "source": []
  },
  {
   "cell_type": "code",
   "execution_count": null,
   "id": "22703138",
   "metadata": {},
   "outputs": [],
   "source": [
    "#Question 18: What is tuple? Difference between list and tuple.\n",
    "\n",
    "Tuples are an immutable data type, which means that once they have been generated, \n",
    "their elements cannot be changed.\n",
    "Since tuples are ordered sequences, each element has a specific order that will never change.\n",
    "\n",
    "#Difference between list and tuple.\n",
    "\n",
    "Tuples are defined using parentheses, whereas lists are defined using square brackets. \n",
    "For example, a tuple might look like (1, 2, 3) while a list might look like [1, 2, 3].\n",
    "\n",
    "Once a tuple is created, you can't add or remove elements from it or change the values of its elements. Tuples are immutable.\n",
    " \n",
    "Lists are mutable and can be modified after they are created."
   ]
  },
  {
   "cell_type": "code",
   "execution_count": null,
   "id": "2a59b6cf",
   "metadata": {},
   "outputs": [],
   "source": []
  },
  {
   "cell_type": "code",
   "execution_count": null,
   "id": "b63edeee",
   "metadata": {},
   "outputs": [],
   "source": [
    "#Question 19: Write a Python program to create a tuple with different data types.\n",
    "\n",
    "\n",
    "my_tuple = (\"void\", 100, 25,100.9, True)\n",
    "print(my_tuple)"
   ]
  },
  {
   "cell_type": "code",
   "execution_count": null,
   "id": "df63d019",
   "metadata": {},
   "outputs": [],
   "source": []
  },
  {
   "cell_type": "code",
   "execution_count": null,
   "id": "34e42af7",
   "metadata": {},
   "outputs": [],
   "source": [
    "#Question 20: Write a Python program to create a tuple with numbers.\n",
    "\n",
    "my_tuple = (1, 2, 3, 4, 5)\n",
    "print(my_tuple)"
   ]
  },
  {
   "cell_type": "code",
   "execution_count": null,
   "id": "618526f6",
   "metadata": {},
   "outputs": [],
   "source": []
  },
  {
   "cell_type": "code",
   "execution_count": null,
   "id": "484b574e",
   "metadata": {},
   "outputs": [],
   "source": [
    "#Question 21: Write a Python program to convert a tuple to a string.\n",
    "\n",
    "my_tuple = ('h', 'e', 'l', 'l', 'o')\n",
    "my_string = ''.join(my_tuple)\n",
    "\n",
    "print(my_string)"
   ]
  },
  {
   "cell_type": "code",
   "execution_count": null,
   "id": "f4110080",
   "metadata": {},
   "outputs": [],
   "source": []
  },
  {
   "cell_type": "code",
   "execution_count": null,
   "id": "4dfe5f1b",
   "metadata": {},
   "outputs": [],
   "source": [
    "#Question 22: Write a Python program to check whether an element exists within a tuple.\n",
    "\n",
    "my_tuple = (1, 2, 3, 4, 5)\n",
    "\n",
    "if 3 in my_tuple:\n",
    "    print(\"Element exists in the tuple.\")\n",
    "else:\n",
    "    print(\"Element does not exist in the tuple.\")"
   ]
  },
  {
   "cell_type": "code",
   "execution_count": null,
   "id": "dcfbe4a3",
   "metadata": {},
   "outputs": [],
   "source": []
  },
  {
   "cell_type": "code",
   "execution_count": null,
   "id": "6f4fdb70",
   "metadata": {},
   "outputs": [],
   "source": [
    "#Question 23: Write a Python program to find the length of a tuple.\n",
    "\n",
    "my_tuple = (1, 2, 3, 4, 5)\n",
    "tuple_length = len(my_tuple)\n",
    "print(\"The length of the tuple is:\", tuple_length)"
   ]
  },
  {
   "cell_type": "code",
   "execution_count": null,
   "id": "ddd2e604",
   "metadata": {},
   "outputs": [],
   "source": []
  },
  {
   "cell_type": "code",
   "execution_count": null,
   "id": "55b40485",
   "metadata": {},
   "outputs": [],
   "source": [
    "#Question 24: Write a Python program to convert a list to a tuple.\n",
    "\n",
    "my_list = [1, 2, 3, 4, 5]\n",
    "my_tuple = tuple(my_list)\n",
    "print(my_tuple)"
   ]
  },
  {
   "cell_type": "code",
   "execution_count": null,
   "id": "d4914339",
   "metadata": {},
   "outputs": [],
   "source": []
  },
  {
   "cell_type": "code",
   "execution_count": null,
   "id": "900b0959",
   "metadata": {},
   "outputs": [],
   "source": [
    "#Question 25: Write a Python program to reverse a tuple.\n",
    "\n",
    "my_tuple = (1, 2, 3, 4, 5)\n",
    "reversed_tuple = my_tuple[::-1]\n",
    "print(reversed_tuple)"
   ]
  },
  {
   "cell_type": "code",
   "execution_count": null,
   "id": "ec46f62c",
   "metadata": {},
   "outputs": [],
   "source": []
  },
  {
   "cell_type": "code",
   "execution_count": null,
   "id": "62a79e61",
   "metadata": {},
   "outputs": [],
   "source": [
    "#Question 26: Write a Python program to replace last value of tuples in a list.\n",
    "\n",
    "my_list = [(1, 2, 3), (4, 5, 6), (7, 8, 9)]\n",
    "new_list = [tuple(t[:-1]) + (10,) for t in my_list]\n",
    "print(new_list)"
   ]
  },
  {
   "cell_type": "code",
   "execution_count": null,
   "id": "70099b36",
   "metadata": {},
   "outputs": [],
   "source": []
  },
  {
   "cell_type": "code",
   "execution_count": null,
   "id": "14f229ba",
   "metadata": {},
   "outputs": [],
   "source": [
    "#Question 27: Write a Python program to find the repeated items of a tuple.\n",
    "\n",
    "my_tuple = (1, 2, 3, 4, 5, 2, 4, 6)\n",
    "\n",
    "repeated_items = []\n",
    "for item in my_tuple:\n",
    "    if my_tuple.count(item) > 1 and item not in repeated_items:\n",
    "        repeated_items.append(item)\n",
    "print(\"The repeated items in the tuple are:\", tuple(repeated_items))"
   ]
  },
  {
   "cell_type": "code",
   "execution_count": null,
   "id": "4ba1ee79",
   "metadata": {},
   "outputs": [],
   "source": []
  },
  {
   "cell_type": "code",
   "execution_count": null,
   "id": "d82845d3",
   "metadata": {},
   "outputs": [],
   "source": [
    "#Question 28: Write a Python program to remove an empty tuple(s) from a list of tuples.\n",
    "\n",
    "my_list = [(1, 2), (), (3,), (4, 5, 6), (), (), (7,), ()]\n",
    "new_list = [t for t in my_list if t]\n",
    "print(new_list)"
   ]
  },
  {
   "cell_type": "code",
   "execution_count": null,
   "id": "7b0bc5ce",
   "metadata": {},
   "outputs": [],
   "source": []
  },
  {
   "cell_type": "code",
   "execution_count": null,
   "id": "edbb3e7a",
   "metadata": {},
   "outputs": [],
   "source": [
    "#Question 29: Write a Python program to unzip a list of tuples into individual lists.\n",
    "\n",
    "my_list = [(1, 'a'), (2, 'b'), (3, 'c')]\n",
    "unzipped = list(zip(*my_list))\n",
    "print(unzipped[0])\n",
    "print(unzipped[1])"
   ]
  },
  {
   "cell_type": "code",
   "execution_count": null,
   "id": "e07c0ee0",
   "metadata": {},
   "outputs": [],
   "source": []
  },
  {
   "cell_type": "code",
   "execution_count": null,
   "id": "85cce36e",
   "metadata": {},
   "outputs": [],
   "source": [
    "#Question 30: Write a Python program to convert a list of tuples into a dictionary.\n",
    "\n",
    "my_list = [('a', 1), ('b', 2), ('c', 3)]\n",
    "my_dict = dict(my_list)\n",
    "print(my_dict)"
   ]
  },
  {
   "cell_type": "code",
   "execution_count": null,
   "id": "d4a11004",
   "metadata": {},
   "outputs": [],
   "source": []
  },
  {
   "cell_type": "code",
   "execution_count": null,
   "id": "7d49aadd",
   "metadata": {},
   "outputs": [],
   "source": [
    "#Question 31: How will you create a dictionary using tuples in python?\n",
    "\n",
    "To create a dictionary using tuples in Python, you can use the built-in dict() function. \n",
    "The dict() function can take a list of tuples as an argument, where each tuple contains a \n",
    "key-value pair that will be added to the dictionary."
   ]
  },
  {
   "cell_type": "code",
   "execution_count": null,
   "id": "b3a0a81f",
   "metadata": {},
   "outputs": [],
   "source": []
  },
  {
   "cell_type": "code",
   "execution_count": null,
   "id": "70e55267",
   "metadata": {},
   "outputs": [],
   "source": [
    "#Question 32: Write a Python script to sort (ascending and descending) a dictionary by value.\n",
    "\n",
    "my_dict = {'apple': 5, 'banana': 2, 'cherry': 8, 'date': 1}\n",
    "sorted_dict_asc = dict(sorted(my_dict.items(), key=lambda x: x[1]))\n",
    "\n",
    "sorted_dict_desc = dict(sorted(my_dict.items(), key=lambda x: x[1], reverse=True))\n",
    "\n",
    "print(\"Sorted dictionary by value in ascending order:\", sorted_dict_asc)\n",
    "print(\"Sorted dictionary by value in descending order:\", sorted_dict_desc)"
   ]
  },
  {
   "cell_type": "code",
   "execution_count": null,
   "id": "5e51bdbe",
   "metadata": {},
   "outputs": [],
   "source": []
  },
  {
   "cell_type": "code",
   "execution_count": null,
   "id": "eed5146b",
   "metadata": {},
   "outputs": [],
   "source": [
    "#Question 33: Write a Python script to concatenate following dictionaries to create a new one.\n",
    "\n",
    "\n",
    "dict1 = { 'apple': 1, 'banana': 2 }\n",
    "dict2 = { 'orange': 3, 'pear': 4 }\n",
    "dict3 = { 'kiwi': 5, 'pineapple': 6 }\n",
    "new_dict = { **dict1, **dict2, **dict3 }\n",
    "print(new_dict)"
   ]
  },
  {
   "cell_type": "code",
   "execution_count": null,
   "id": "043360d5",
   "metadata": {},
   "outputs": [],
   "source": []
  },
  {
   "cell_type": "code",
   "execution_count": null,
   "id": "6636ee8c",
   "metadata": {},
   "outputs": [],
   "source": [
    "#Question 34: Write a Python script to check if a given key already exists in a dictionary.\n",
    "\n",
    "my_dict = { 'apple': 1, 'banana': 2, 'orange': 3 }\n",
    "\n",
    "key = 'apple'\n",
    "if key in my_dict:\n",
    "    print(f\"{key} exists in the dictionary.\")\n",
    "else:\n",
    "    print(f\"{key} does not exist in the dictionary.\")"
   ]
  },
  {
   "cell_type": "code",
   "execution_count": null,
   "id": "aa31af08",
   "metadata": {},
   "outputs": [],
   "source": []
  },
  {
   "cell_type": "code",
   "execution_count": null,
   "id": "8a958d61",
   "metadata": {},
   "outputs": [],
   "source": [
    "#Question 35: How Do You Traverse Through A Dictionary Object In Python?\n",
    "\n",
    "my_dict = { 'apple': 1, 'banana': 2, 'orange': 3 }\n",
    "\n",
    "for key in my_dict:\n",
    "    print(key, my_dict[key])\n",
    "\n",
    "for key, value in my_dict.items():\n",
    "    print(key, value)\n",
    "\n",
    "keys = list(my_dict.keys())\n",
    "i = 0\n",
    "while i < len(keys):\n",
    "    key = keys[i]\n",
    "    value = my_dict[key]\n",
    "    print(key, value)\n",
    "    i += 1"
   ]
  },
  {
   "cell_type": "code",
   "execution_count": null,
   "id": "cdbc32f0",
   "metadata": {},
   "outputs": [],
   "source": []
  },
  {
   "cell_type": "code",
   "execution_count": null,
   "id": "f4892800",
   "metadata": {},
   "outputs": [],
   "source": [
    "#Question 36: How Do You Check The Presence Of A Key In A Dictionary?\n",
    "\n",
    "In Python, you can check the presence of a key in a dictionary using the in operator or the get() method. "
   ]
  },
  {
   "cell_type": "code",
   "execution_count": null,
   "id": "f143e2ab",
   "metadata": {},
   "outputs": [],
   "source": []
  },
  {
   "cell_type": "code",
   "execution_count": null,
   "id": "2c932c62",
   "metadata": {},
   "outputs": [],
   "source": [
    "#Question 37: Write a Python script to print a dictionary where the keys are numbers between 1 and 15.\n",
    "\n",
    "my_dict = {}\n",
    "\n",
    "for i in range(1, 16):\n",
    "    my_dict[i] = f\"value {i}\"\n",
    "\n",
    "print(my_dict)"
   ]
  },
  {
   "cell_type": "code",
   "execution_count": null,
   "id": "a61a1525",
   "metadata": {},
   "outputs": [],
   "source": []
  },
  {
   "cell_type": "code",
   "execution_count": null,
   "id": "8fb2baf5",
   "metadata": {},
   "outputs": [],
   "source": [
    "\n",
    "#Question 38: Write a Python program to check multiple keys exists in a dictionary\n",
    "\n",
    "my_dict = {'key1': 1, 'key2': 2, 'key3': 3, 'key4': 4}\n",
    "\n",
    "keys_to_check = ['key1', 'key3', 'key5']\n",
    "\n",
    "if all(key in my_dict for key in keys_to_check):\n",
    "    print(\"All keys are present in the dictionary\")\n",
    "else:\n",
    "    print(\"At least one key is missing from the dictionary\")"
   ]
  },
  {
   "cell_type": "code",
   "execution_count": null,
   "id": "f32ba37e",
   "metadata": {},
   "outputs": [],
   "source": []
  },
  {
   "cell_type": "code",
   "execution_count": null,
   "id": "7d4d26ca",
   "metadata": {},
   "outputs": [],
   "source": [
    "#Question 39: Write a Python script to merge two Python dictionaries\n",
    "\n",
    "\n",
    "dict1 = {'a': 1, 'b': 2}\n",
    "dict2 = {'c': 3, 'd': 4}\n",
    "\n",
    "merged_dict = dict1.copy() \n",
    "merged_dict.update(dict2)\n",
    "print(merged_dict)"
   ]
  },
  {
   "cell_type": "code",
   "execution_count": null,
   "id": "190325f0",
   "metadata": {},
   "outputs": [],
   "source": []
  },
  {
   "cell_type": "code",
   "execution_count": null,
   "id": "5d369814",
   "metadata": {},
   "outputs": [],
   "source": [
    "#Question 40: Write a Python program to map two lists into a dictionary\n",
    "\n",
    "keys = ['a', 'b', 'c']\n",
    "values = [1, 2, 3]\n",
    "\n",
    "my_dict = {keys[i]: values[i] for i in range(len(keys))}\n",
    "\n",
    "print(my_dict)"
   ]
  },
  {
   "cell_type": "code",
   "execution_count": null,
   "id": "7d480b77",
   "metadata": {},
   "outputs": [],
   "source": []
  },
  {
   "cell_type": "code",
   "execution_count": null,
   "id": "b185eacb",
   "metadata": {},
   "outputs": [],
   "source": [
    "#Question 41: Write a Python program to combine two dictionary adding values for common keys.\n",
    "# d1 = {'a': 100, 'b': 200, 'c':300} o d2 = {'a': 300, 'b': 200,’d’:400}\n",
    "# Sample output: Counter ({'a': 400, 'b': 400,’d’: 400, 'c': 300}).\n",
    "\n",
    "from collections import Counter\n",
    "\n",
    "d1 = {'a': 100, 'b': 200, 'c': 300}\n",
    "d2 = {'a': 300, 'b': 200, 'd': 400}\n",
    "\n",
    "combined_dict = Counter(d1) + Counter(d2)\n",
    "\n",
    "print(combined_dict)"
   ]
  },
  {
   "cell_type": "code",
   "execution_count": null,
   "id": "b760fd73",
   "metadata": {},
   "outputs": [],
   "source": []
  },
  {
   "cell_type": "code",
   "execution_count": null,
   "id": "fd76bc57",
   "metadata": {},
   "outputs": [],
   "source": [
    "#Question 42: Write a Python program to print all unique values in a dictionary.\n",
    "\n",
    "my_dict = {'a': 1, 'b': 2, 'c': 3, 'd': 2, 'e': 4, 'f': 3}\n",
    "\n",
    "unique_values = set(my_dict.values())\n",
    "\n",
    "print(\"Unique values in the dictionary are:\")\n",
    "for value in unique_values:\n",
    "    print(value)"
   ]
  },
  {
   "cell_type": "code",
   "execution_count": null,
   "id": "50d36f8e",
   "metadata": {},
   "outputs": [],
   "source": []
  },
  {
   "cell_type": "code",
   "execution_count": null,
   "id": "f5252e4b",
   "metadata": {},
   "outputs": [],
   "source": [
    "#Question 43: Why Do You Use the Zip () Method in Python?\n",
    "\n",
    "The zip() method is a built-in function in Python that is used to combine multiple iterables into a single iterable object. \n",
    "It takes one or more iterables (such as lists, tuples, or strings) as arguments, \n",
    "and returns an iterator of tuples where the i-th tuple contains the i-th element from each of the input iterables."
   ]
  },
  {
   "cell_type": "code",
   "execution_count": null,
   "id": "70e2e158",
   "metadata": {},
   "outputs": [],
   "source": []
  },
  {
   "cell_type": "code",
   "execution_count": null,
   "id": "32850611",
   "metadata": {},
   "outputs": [],
   "source": [
    "#Question 44: Write a Python program to create and display all combinations of letters, selecting each letter from a \n",
    "#different key in a dictionary.\n",
    "# Sample data: {'1': ['a','b'], '2': ['c','d']}\n",
    "# Expected Output:\n",
    "# ac ad bc bd\n",
    "\n",
    "import itertools\n",
    "\n",
    "data = {'1': ['a', 'b'], '2': ['c', 'd']}\n",
    "\n",
    "combinations = list(itertools.product(*data.values()))\n",
    "\n",
    "for combo in combinations:\n",
    "    print(''.join(combo), end=' ')"
   ]
  },
  {
   "cell_type": "code",
   "execution_count": null,
   "id": "31b117a4",
   "metadata": {},
   "outputs": [],
   "source": []
  },
  {
   "cell_type": "code",
   "execution_count": null,
   "id": "ed639521",
   "metadata": {},
   "outputs": [],
   "source": [
    "#Question 45: Write a Python program to find the highest 3 values in a dictionary\n",
    "\n",
    "my_dict = {'a': 100, 'b': 200, 'c': 50, 'd': 300, 'e': 150}\n",
    "\n",
    "values_list = list(my_dict.values())\n",
    "\n",
    "values_list.sort(reverse=True)\n",
    "\n",
    "highest_3_values = values_list[:3]\n",
    "\n",
    "print(\"The highest 3 values in the dictionary are:\", highest_3_values)"
   ]
  },
  {
   "cell_type": "code",
   "execution_count": null,
   "id": "50fa45bf",
   "metadata": {},
   "outputs": [],
   "source": []
  },
  {
   "cell_type": "code",
   "execution_count": null,
   "id": "fb71b615",
   "metadata": {},
   "outputs": [],
   "source": [
    "#Question 46: Write a Python program to combine values in python list of dictionaries. \n",
    "#Sample data: [{'item': 'item1', 'amount': 400}, {'item': 'item2', 'amount':\n",
    "# 300}, o {'item': 'item1', 'amount': 750}]\n",
    "# Expected Output:\n",
    "# Counter ({'item1': 1150, 'item2': 300})\n",
    "\n",
    "from collections import Counter\n",
    "data = [{'item': 'item1', 'amount': 400}, {'item': 'item2', 'amount': 300}, {'item': 'item1', 'amount': 750}]\n",
    "result = Counter()\n",
    "\n",
    "for d in data:\n",
    "    result[d['item']] += d['amount']\n",
    "print(result)"
   ]
  },
  {
   "cell_type": "code",
   "execution_count": null,
   "id": "ae2624cf",
   "metadata": {},
   "outputs": [],
   "source": []
  },
  {
   "cell_type": "code",
   "execution_count": null,
   "id": "17f5e5ca",
   "metadata": {},
   "outputs": [],
   "source": [
    "#Question 47: Write a Python program to create a dictionary from a string.\n",
    "# Note: Track the count of the letters from the string.\n",
    "# Sample string: 'w3resource'\n",
    "# Expected output:\n",
    "# {'3': 1,’s’: 1, 'r': 2, 'u': 1, 'w': 1, 'c': 1, 'e': 2, 'o': 1}\n",
    "\n",
    "string = 'w3resource'\n",
    "\n",
    "result = {}\n",
    "\n",
    "for char in string:\n",
    "    if char in result:\n",
    "        result[char] += 1\n",
    "    else:\n",
    "        result[char] = 1\n",
    "\n",
    "print(result)"
   ]
  },
  {
   "cell_type": "code",
   "execution_count": null,
   "id": "b13385db",
   "metadata": {},
   "outputs": [],
   "source": []
  },
  {
   "cell_type": "code",
   "execution_count": null,
   "id": "adf1ab4d",
   "metadata": {},
   "outputs": [],
   "source": [
    "#Question 48: Write a Python function to calculate the factorial of a number (a nonnegative integer)\n",
    "\n",
    "def factorial(n):\n",
    "    if n < 0:\n",
    "        raise ValueError(\"Factorial is only defined for nonnegative integers.\")\n",
    "    if n == 0:\n",
    "        return 1\n",
    "    else:\n",
    "        return n * factorial(n - 1)\n",
    "factorial(5)"
   ]
  },
  {
   "cell_type": "code",
   "execution_count": null,
   "id": "90c0bfbb",
   "metadata": {},
   "outputs": [],
   "source": []
  },
  {
   "cell_type": "code",
   "execution_count": null,
   "id": "90235518",
   "metadata": {},
   "outputs": [],
   "source": [
    "#Question 49: Write a Python function to check whether a number is in a given range\n",
    "\n",
    "def check_range(num, start, end):\n",
    "    if num in range(start, end+1):\n",
    "        return True\n",
    "    else:\n",
    "        return False\n",
    "check_range(15,1,10)  "
   ]
  },
  {
   "cell_type": "code",
   "execution_count": null,
   "id": "5860450c",
   "metadata": {},
   "outputs": [],
   "source": []
  },
  {
   "cell_type": "code",
   "execution_count": null,
   "id": "0fd4db90",
   "metadata": {},
   "outputs": [],
   "source": [
    "#Question 50: Write a Python function to check whether a number is perfect or not.\n",
    "\n",
    "def is_perfect(number):\n",
    "    \n",
    "    if number <= 0:\n",
    "        return False\n",
    "    divisor_sum = sum([divisor for divisor in range(1, number) if number % divisor == 0])\n",
    "    return divisor_sum == number\n",
    "is_perfect(28)"
   ]
  },
  {
   "cell_type": "code",
   "execution_count": null,
   "id": "3b94b2af",
   "metadata": {},
   "outputs": [],
   "source": []
  },
  {
   "cell_type": "code",
   "execution_count": null,
   "id": "4800d5b7",
   "metadata": {},
   "outputs": [],
   "source": [
    "#Question 51: Write a Python function that checks whether a passed string is palindrome or not\n",
    "\n",
    "def is_palindrome(s):\n",
    "    \n",
    "    s = s.lower()  \n",
    "    s = ''.join(c for c in s if c.isalnum())  \n",
    "    return s == s[::-1] \n",
    "is_palindrome('oppo')"
   ]
  },
  {
   "cell_type": "code",
   "execution_count": null,
   "id": "23fe63fd",
   "metadata": {},
   "outputs": [],
   "source": []
  },
  {
   "cell_type": "code",
   "execution_count": null,
   "id": "10b68032",
   "metadata": {},
   "outputs": [],
   "source": [
    "#Question 52: How Many Basic Types Of Functions Are Available In Python?\n",
    "\n",
    "Built-in functions: These are functions that are built into the Python language print(), len(), sum(), type(), etc.\n",
    "User-defined functions: These are functions that are created by users def\n",
    "Anonymous or lambda functions: These are small, single-expression functions and defined using the lambda keyword."
   ]
  },
  {
   "cell_type": "code",
   "execution_count": null,
   "id": "63b0ac84",
   "metadata": {},
   "outputs": [],
   "source": []
  },
  {
   "cell_type": "code",
   "execution_count": null,
   "id": "ab095736",
   "metadata": {},
   "outputs": [],
   "source": [
    "#Question 53: How can you pick a random item from a list or tuple?\n",
    "\n",
    "import random\n",
    "\n",
    "my_list = [1, 2, 3, 4, 5]\n",
    "random_item = random.choice(my_list)\n",
    "\n",
    "print(random_item)"
   ]
  },
  {
   "cell_type": "code",
   "execution_count": null,
   "id": "2ff228cf",
   "metadata": {},
   "outputs": [],
   "source": []
  },
  {
   "cell_type": "code",
   "execution_count": null,
   "id": "f495fe0e",
   "metadata": {},
   "outputs": [],
   "source": [
    "#Question 54: How can you pick a random item from a range?\n",
    "\n",
    "import random\n",
    "\n",
    "random_number = random.randrange(1, 11)\n",
    "\n",
    "print(random_number)"
   ]
  },
  {
   "cell_type": "code",
   "execution_count": null,
   "id": "343231d0",
   "metadata": {},
   "outputs": [],
   "source": []
  },
  {
   "cell_type": "code",
   "execution_count": null,
   "id": "dc51f12c",
   "metadata": {},
   "outputs": [],
   "source": [
    "#Question 55: How can you get a random number in python?\n",
    "\n",
    "import random\n",
    "\n",
    "random_number = random.randint(1, 100)\n",
    "print(random_number)"
   ]
  },
  {
   "cell_type": "code",
   "execution_count": null,
   "id": "4baffb86",
   "metadata": {},
   "outputs": [],
   "source": []
  },
  {
   "cell_type": "code",
   "execution_count": null,
   "id": "69484769",
   "metadata": {},
   "outputs": [],
   "source": [
    "#Question 56: How will you set the starting value in generating random numbers?\n",
    "\n",
    "In Python, you can set the starting value, also known as the seed value, \n",
    "for generating random numbers using the random.seed() function."
   ]
  },
  {
   "cell_type": "code",
   "execution_count": null,
   "id": "aa39bb92",
   "metadata": {},
   "outputs": [],
   "source": []
  },
  {
   "cell_type": "code",
   "execution_count": null,
   "id": "c7c87627",
   "metadata": {},
   "outputs": [],
   "source": [
    "#Question 57: How will you randomizes the items of a list in place?\n",
    "\n",
    "In Python, you can randomize the items of a list in place using the random module and the list method shuffle(). "
   ]
  },
  {
   "cell_type": "code",
   "execution_count": null,
   "id": "5d14672a",
   "metadata": {},
   "outputs": [],
   "source": []
  },
  {
   "cell_type": "code",
   "execution_count": null,
   "id": "c661a6fe",
   "metadata": {},
   "outputs": [],
   "source": [
    "#Question 58: Write a Python program to read a random line from a file.\n",
    "\n",
    "import random\n",
    "\n",
    "with open('file.txt', 'r') as f:\n",
    "    lines = f.readlines()\n",
    "    random_line = random.choice(lines)\n",
    "    print(random_line)"
   ]
  },
  {
   "cell_type": "code",
   "execution_count": null,
   "id": "2897b4cd",
   "metadata": {},
   "outputs": [],
   "source": []
  },
  {
   "cell_type": "code",
   "execution_count": null,
   "id": "f587535d",
   "metadata": {},
   "outputs": [],
   "source": [
    "#Question 59: Write a Python program to convert degree to radian\n",
    "\n",
    "import math\n",
    "\n",
    "degrees = 45\n",
    "radians = degrees * math.pi / 180\n",
    "\n",
    "print(radians)"
   ]
  },
  {
   "cell_type": "code",
   "execution_count": null,
   "id": "5d1f9309",
   "metadata": {},
   "outputs": [],
   "source": []
  },
  {
   "cell_type": "code",
   "execution_count": null,
   "id": "8bb7be02",
   "metadata": {},
   "outputs": [],
   "source": [
    "#Question 60: Write a Python program to calculate the area of a trapezoid\n",
    "\n",
    "height = 5\n",
    "base1 = 7\n",
    "base2 = 12\n",
    "\n",
    "area = 0.5 * (base1 + base2) * height\n",
    "\n",
    "print(area)"
   ]
  },
  {
   "cell_type": "code",
   "execution_count": null,
   "id": "ffd82970",
   "metadata": {},
   "outputs": [],
   "source": []
  },
  {
   "cell_type": "code",
   "execution_count": null,
   "id": "55d402c8",
   "metadata": {},
   "outputs": [],
   "source": [
    "#Question 61: Write a Python program to calculate the area of a parallelogram\n",
    "\n",
    "base = 10\n",
    "height = 6\n",
    "\n",
    "area = base * height\n",
    "\n",
    "print(area)"
   ]
  },
  {
   "cell_type": "code",
   "execution_count": null,
   "id": "8d3528e5",
   "metadata": {},
   "outputs": [],
   "source": []
  },
  {
   "cell_type": "code",
   "execution_count": null,
   "id": "e6bf1ee8",
   "metadata": {},
   "outputs": [],
   "source": [
    "#Question 62: Write a Python program to calculate surface volume and area of a cylinder\n",
    "\n",
    "import math\n",
    "\n",
    "radius = 3\n",
    "height = 8\n",
    "\n",
    "sa = 2 * math.pi * radius * height + 2 * math.pi * radius ** 2\n",
    "print(\"Surface Area:\", sa)\n",
    "\n",
    "v = math.pi * radius ** 2 * height\n",
    "print(\"Volume:\", v)"
   ]
  },
  {
   "cell_type": "code",
   "execution_count": null,
   "id": "b3abe556",
   "metadata": {},
   "outputs": [],
   "source": []
  },
  {
   "cell_type": "code",
   "execution_count": null,
   "id": "a401d251",
   "metadata": {},
   "outputs": [],
   "source": [
    "#Question 63: Write a Python program to returns sum of all divisors of a number\n",
    "\n",
    "def sum_divisors(n):\n",
    "    divisors = []\n",
    "    for i in range(1, n+1):\n",
    "        if n % i == 0:\n",
    "            divisors.append(i)\n",
    "    return sum(divisors)\n",
    "\n",
    "num = 24\n",
    "print(sum_divisors(num))"
   ]
  },
  {
   "cell_type": "code",
   "execution_count": null,
   "id": "f7f25c92",
   "metadata": {},
   "outputs": [],
   "source": []
  },
  {
   "cell_type": "code",
   "execution_count": null,
   "id": "d90276c8",
   "metadata": {},
   "outputs": [],
   "source": [
    "#Question 64: Write a Python program to find the maximum and minimum numbers from the specified decimal numbers.\n",
    "\n",
    "inte = [2.5, 7.8, 1.2, 5.6, 9.1]\n",
    "\n",
    "max_num = max(inte)\n",
    "print(\"Maximum number is:\", max_num)\n",
    "\n",
    "min_num = min(inte)\n",
    "print(\"Minimum number is:\", min_num)"
   ]
  },
  {
   "cell_type": "code",
   "execution_count": null,
   "id": "e705e7a8",
   "metadata": {},
   "outputs": [],
   "source": []
  },
  {
   "cell_type": "code",
   "execution_count": null,
   "id": "a0eb728e",
   "metadata": {},
   "outputs": [],
   "source": []
  },
  {
   "cell_type": "code",
   "execution_count": null,
   "id": "7f56dcc2",
   "metadata": {},
   "outputs": [],
   "source": []
  },
  {
   "cell_type": "code",
   "execution_count": null,
   "id": "b10622ca",
   "metadata": {},
   "outputs": [],
   "source": []
  },
  {
   "cell_type": "code",
   "execution_count": null,
   "id": "5a16bf79",
   "metadata": {},
   "outputs": [],
   "source": []
  },
  {
   "cell_type": "code",
   "execution_count": null,
   "id": "0962998d",
   "metadata": {},
   "outputs": [],
   "source": []
  }
 ],
 "metadata": {
  "kernelspec": {
   "display_name": "Python 3 (ipykernel)",
   "language": "python",
   "name": "python3"
  },
  "language_info": {
   "codemirror_mode": {
    "name": "ipython",
    "version": 3
   },
   "file_extension": ".py",
   "mimetype": "text/x-python",
   "name": "python",
   "nbconvert_exporter": "python",
   "pygments_lexer": "ipython3",
   "version": "3.9.13"
  }
 },
 "nbformat": 4,
 "nbformat_minor": 5
}
