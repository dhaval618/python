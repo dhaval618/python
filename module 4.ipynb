{
 "cells": [
  {
   "cell_type": "code",
   "execution_count": null,
   "id": "26846b56",
   "metadata": {},
   "outputs": [],
   "source": [
    "                            #Module 4"
   ]
  },
  {
   "cell_type": "code",
   "execution_count": null,
   "id": "79902b22",
   "metadata": {},
   "outputs": [],
   "source": []
  },
  {
   "cell_type": "code",
   "execution_count": null,
   "id": "91d05f7d",
   "metadata": {},
   "outputs": [],
   "source": [
    "#Question 1: What is File function in python? What is keywords to create and write file.\n",
    "\n",
    "A file is a container in computer storage devices used for storing data.\n",
    "When we want to read from or write to a file, we need to open it first. When we are done, \n",
    "it needs to be closed so that the resources that are tied with the file are freed.\n",
    "Hence, in Python, a file operation takes place in the following order:\n",
    "Open a file\n",
    "Read or write (perform operation)\n",
    "Close the file"
   ]
  },
  {
   "cell_type": "code",
   "execution_count": null,
   "id": "0b8cfed2",
   "metadata": {},
   "outputs": [],
   "source": []
  },
  {
   "cell_type": "code",
   "execution_count": null,
   "id": "57ec46f7",
   "metadata": {},
   "outputs": [],
   "source": [
    "#code as an example: \n",
    "\n",
    "open('dhaval','x')\n",
    "f1=open('/Users/pateldhaval/dhaval.txt','w')\n",
    "f1.write(\"name\")\n",
    "f1.close()"
   ]
  },
  {
   "cell_type": "code",
   "execution_count": null,
   "id": "04b9eb34",
   "metadata": {},
   "outputs": [],
   "source": [
    "f2=open('/Users/pateldhaval/dhaval.txt','w')\n",
    "f2.write(\"This is python language\")\n",
    "f2.close()"
   ]
  },
  {
   "cell_type": "code",
   "execution_count": null,
   "id": "d8549754",
   "metadata": {},
   "outputs": [],
   "source": []
  },
  {
   "cell_type": "code",
   "execution_count": null,
   "id": "701b9ae7",
   "metadata": {},
   "outputs": [],
   "source": [
    "#Question 2: Write a Python program to read an entire text file.\n",
    "\n",
    "f1=open('/Users/pateldhaval/dhaval.txt','r')\n",
    "v=f1.read()\n",
    "f1.close()\n",
    "print(v)"
   ]
  },
  {
   "cell_type": "code",
   "execution_count": null,
   "id": "553897e0",
   "metadata": {},
   "outputs": [],
   "source": []
  },
  {
   "cell_type": "code",
   "execution_count": null,
   "id": "022a15aa",
   "metadata": {},
   "outputs": [],
   "source": [
    "#Question 3: Write a Python program to append text to a file and display the text.\n",
    "\n",
    "f1=open('/Users/pateldhaval/Dhaval.txt','a')\n",
    "f1.write(' It was created by Guido van Rossum, and released in 1991.')\n",
    "f1.close()"
   ]
  },
  {
   "cell_type": "code",
   "execution_count": null,
   "id": "4256fb78",
   "metadata": {},
   "outputs": [],
   "source": []
  },
  {
   "cell_type": "code",
   "execution_count": null,
   "id": "37df3f0c",
   "metadata": {},
   "outputs": [],
   "source": [
    "#Question 4: Write a Python program to read first n lines of a file. \n",
    "\n",
    "f1=open('/Users/pateldhaval/new1.txt','r') \n",
    "firstline=f1.readline()\n",
    "print(firstline)"
   ]
  },
  {
   "cell_type": "code",
   "execution_count": null,
   "id": "24c7def9",
   "metadata": {},
   "outputs": [],
   "source": []
  },
  {
   "cell_type": "code",
   "execution_count": null,
   "id": "356a82e9",
   "metadata": {},
   "outputs": [],
   "source": [
    "# Question 5: Write a Python program to read last n lines of a file\n",
    "\n",
    "f1=open('/Users/pateldhaval/new1.txt','r') \n",
    "lastline=f1.readlines()[-1]\n",
    "print(lastline)"
   ]
  },
  {
   "cell_type": "code",
   "execution_count": null,
   "id": "e2480bc1",
   "metadata": {},
   "outputs": [],
   "source": []
  },
  {
   "cell_type": "code",
   "execution_count": null,
   "id": "55ba582c",
   "metadata": {},
   "outputs": [],
   "source": [
    "# Question 6: Write a Python program to read a file line by line and store it into a list\n",
    "\n",
    "f1=open('/Users/pateldhaval/new1.txt','r')\n",
    "res=f1.readlines()\n",
    "f1.close()\n",
    "print(res)"
   ]
  },
  {
   "cell_type": "code",
   "execution_count": null,
   "id": "6393af6c",
   "metadata": {},
   "outputs": [],
   "source": []
  },
  {
   "cell_type": "code",
   "execution_count": null,
   "id": "c5490706",
   "metadata": {},
   "outputs": [],
   "source": [
    "# Question 7: Write a Python program to read a file line by line and store it into a variable.\n",
    "\n",
    "f1=open('/Users/pateldhaval/new1.txt','r')\n",
    "a=f1.readline()\n",
    "b =f1.readline()\n",
    "c=f1.readline()\n",
    "f1.close()\n",
    "print(a,b,c)"
   ]
  },
  {
   "cell_type": "code",
   "execution_count": null,
   "id": "eea6d0b0",
   "metadata": {},
   "outputs": [],
   "source": []
  },
  {
   "cell_type": "code",
   "execution_count": null,
   "id": "7eb07b32",
   "metadata": {},
   "outputs": [],
   "source": [
    "# Question 8: #Write a python program to find the longest words.\n",
    "\n",
    "sentence = input('')\n",
    "words=sentence.split()\n",
    "a=len(words)\n",
    "b=max(a)\n",
    "\n",
    "for word in words:\n",
    "    print(a)"
   ]
  },
  {
   "cell_type": "code",
   "execution_count": null,
   "id": "67ceebaf",
   "metadata": {},
   "outputs": [],
   "source": []
  },
  {
   "cell_type": "code",
   "execution_count": null,
   "id": "559c75c0",
   "metadata": {},
   "outputs": [],
   "source": [
    "# Question 9: Write a Python program to count the number of lines in a text file.\n",
    "\n",
    "with open('/Users/pateldhaval/new1.txt','r') as fp:\n",
    "    lines = len(fp.readlines())\n",
    "    print('Total Number of lines:', lines)"
   ]
  },
  {
   "cell_type": "code",
   "execution_count": null,
   "id": "59fc955b",
   "metadata": {},
   "outputs": [],
   "source": []
  },
  {
   "cell_type": "code",
   "execution_count": null,
   "id": "9d3e90e6",
   "metadata": {},
   "outputs": [],
   "source": [
    "# Question 10: Write a Python program to count the frequency of words in a file.\n",
    "count=0\n",
    "f1=open('/Users/pateldhaval/new1.txt','r')\n",
    "for line in f1:\n",
    "    words=line.split(\" \")\n",
    "    count += len(words)\n",
    "f1.close()\n",
    "\n",
    "print(str(count))"
   ]
  },
  {
   "cell_type": "code",
   "execution_count": null,
   "id": "ff3248a1",
   "metadata": {},
   "outputs": [],
   "source": []
  },
  {
   "cell_type": "code",
   "execution_count": null,
   "id": "6d2c224f",
   "metadata": {},
   "outputs": [],
   "source": [
    "# Question 11: Write a Python program to write a list to a file.\n",
    "items = ['Mango' , 'Orange' , 'Apple' , 'Lemon']\n",
    "file = open('/Users/pateldhaval/new1.txt','w')\n",
    "file.writelines(items)\n",
    "file.close()\n",
    "\n",
    "file=open('/Users/pateldhaval/new1.txt','r')\n",
    "file.read()"
   ]
  },
  {
   "cell_type": "code",
   "execution_count": null,
   "id": "ffeeb9c2",
   "metadata": {},
   "outputs": [],
   "source": []
  },
  {
   "cell_type": "code",
   "execution_count": null,
   "id": "e6c895c3",
   "metadata": {},
   "outputs": [],
   "source": [
    "# Question 12: Write a Python program to copy the contents of a file to another file.\n",
    "\n",
    "new1 = open(\"new1.txt\", \"r\")\n",
    "file2 = open(\"Dhaval.txt\", \"w\")\n",
    "l = new1.readline()\n",
    "\n",
    "while l:\n",
    "    file2.write(l)\n",
    "    l = new1.readline()\n",
    "new1.close()\n",
    "file2.close()"
   ]
  },
  {
   "cell_type": "code",
   "execution_count": null,
   "id": "ca8a36e5",
   "metadata": {},
   "outputs": [],
   "source": []
  },
  {
   "cell_type": "code",
   "execution_count": null,
   "id": "195b3ad5",
   "metadata": {},
   "outputs": [],
   "source": [
    "# Question 13: Explain Exception handling? What is an Error in Python?\n",
    "\n",
    "An exception is an event, which occurs during the execution of a program that disrupts \n",
    "the normal flow of the program's instructions. In general, when a Python script encounters a situation\n",
    "that it cannot cope with, it raises an exception. An exception is a Python object \n",
    "that represents an error."
   ]
  },
  {
   "cell_type": "code",
   "execution_count": null,
   "id": "8c7e41fc",
   "metadata": {},
   "outputs": [],
   "source": []
  },
  {
   "cell_type": "code",
   "execution_count": null,
   "id": "9f34c7b0",
   "metadata": {},
   "outputs": [],
   "source": [
    "# Question 14: How many except statements can a try-except block have? Name Some built-in exception classes:\n",
    "\n",
    "A try block have at lease one exception\n",
    "key error\n",
    "syntax error\n",
    "inddex erroe\n",
    "value error"
   ]
  },
  {
   "cell_type": "code",
   "execution_count": null,
   "id": "d023d95c",
   "metadata": {},
   "outputs": [],
   "source": [
    "# Question 15: When will the else part of try-except-else be executed?\n",
    "\n",
    "The else block of a try-except statement in Python is executed only when there is no exception raised in the try block.\n",
    "It is optional and runs after the try block has executed successfully."
   ]
  },
  {
   "cell_type": "code",
   "execution_count": null,
   "id": "3965c87a",
   "metadata": {},
   "outputs": [],
   "source": []
  },
  {
   "cell_type": "code",
   "execution_count": null,
   "id": "2e0d5c20",
   "metadata": {},
   "outputs": [],
   "source": [
    "#Question 16: Can one block of except statements handle multiple exception?\n",
    "\n",
    "Yes, a single except block can handle multiple exceptions in Python. \n",
    "You can specify multiple exception types in a single except block by\n",
    "enclosing them in parentheses and separating them with commas."
   ]
  },
  {
   "cell_type": "code",
   "execution_count": null,
   "id": "d5212cd8",
   "metadata": {},
   "outputs": [],
   "source": []
  },
  {
   "cell_type": "code",
   "execution_count": null,
   "id": "f8fab6ca",
   "metadata": {},
   "outputs": [],
   "source": [
    "#Question 17: When is the finally block executed?\n",
    "\n",
    "The finally block in Python is always executed, regardless of whether an exception \n",
    "is raised or not. It is used to define a block of code that should always be executed,\n",
    "even if an error occurs or if there is a return statement in the try or except blocks."
   ]
  },
  {
   "cell_type": "code",
   "execution_count": null,
   "id": "579e6127",
   "metadata": {},
   "outputs": [],
   "source": []
  },
  {
   "cell_type": "code",
   "execution_count": null,
   "id": "aab00b9b",
   "metadata": {},
   "outputs": [],
   "source": [
    "#Question 18: What happens when „1‟ == 1 is executed?\n",
    "\n",
    "When the expression \"1\" == 1 is executed in Python, it will return False. \n",
    "This is because \"1\" is a string literal, and 1 is an integer. \n",
    "The == operator checks for equality between the two operands, and \n",
    "since the string \"1\" and the integer 1 are of different types and have\n",
    "different values, they are not considered equal.\n",
    "\n",
    "In Python, the == operator compares the values of the two operands, regardless\n",
    "of their types. If the values are equal, the expression evaluates to True, and if\n",
    "they are not equal, the expression evaluates to False."
   ]
  },
  {
   "cell_type": "code",
   "execution_count": null,
   "id": "d3e48913",
   "metadata": {},
   "outputs": [],
   "source": []
  },
  {
   "cell_type": "code",
   "execution_count": null,
   "id": "2acecf24",
   "metadata": {},
   "outputs": [],
   "source": [
    "#Question 19: How Do You Handle Exceptions With Try/Except/Finally In Python? Explain with coding snippets.\n",
    "\n",
    "try:\n",
    "    x = int(input(\"Enter a number: \"))\n",
    "    y = int(input(\"Enter another number: \"))\n",
    "    result = x / y\n",
    "    print(\"The result is:\", result)\n",
    "except ValueError:\n",
    "    print(\"Invalid input. Please enter a number.\")\n",
    "except ZeroDivisionError:\n",
    "    print(\"Cannot divide by zero.\")\n",
    "finally:\n",
    "    print(\"Exiting the program.\")"
   ]
  },
  {
   "cell_type": "code",
   "execution_count": null,
   "id": "45438215",
   "metadata": {},
   "outputs": [],
   "source": []
  },
  {
   "cell_type": "code",
   "execution_count": null,
   "id": "2384470c",
   "metadata": {},
   "outputs": [],
   "source": [
    "#Question 20: Write python program that user to enter only odd numbers, else will raise an exception. \n",
    "\n",
    "\n",
    "\n",
    "try:\n",
    "    x = int(input(\"Enter an odd number: \"))\n",
    "    if x % 2 == 0:\n",
    "        raise ValueError(\"Invalid input: Please enter an odd number\")\n",
    "    else:\n",
    "        print(\"You entered an odd number:\", x)\n",
    "except ValueError as ve:\n",
    "    print(ve)"
   ]
  },
  {
   "cell_type": "code",
   "execution_count": null,
   "id": "e6768ba1",
   "metadata": {},
   "outputs": [],
   "source": []
  },
  {
   "cell_type": "code",
   "execution_count": null,
   "id": "167f7451",
   "metadata": {},
   "outputs": [],
   "source": [
    "#Question 21: What are oops concepts? Is multiple inheritance supported in java\n",
    "\n",
    "Object-oriented programming (OOP) is a programming paradigm that is based on the concept of objects.\n",
    "It focuses on creating reusable code by defining objects that have properties (attributes) and methods\n",
    "(behaviors) that can be used to perform specific tasks. There are four main concepts in OOP:\n",
    "\n",
    "Encapsulation:\n",
    "class and object:\n",
    "inheritance:\n",
    "abstraction:\n",
    "polymerphism:"
   ]
  },
  {
   "cell_type": "code",
   "execution_count": null,
   "id": "afc3271a",
   "metadata": {},
   "outputs": [],
   "source": []
  },
  {
   "cell_type": "code",
   "execution_count": null,
   "id": "78ecd411",
   "metadata": {},
   "outputs": [],
   "source": [
    "#Question 22: How to Define a Class in Python? What Is Self? Give An Example Of A Python Class\n",
    "\n",
    "In Python, a class is defined using the class keyword followed by the name of the class,\n",
    "which is usually in CamelCase convention.\n",
    "    \n",
    "class Dog:\n",
    "    def __init__(self, name, age):\n",
    "        self.name = name\n",
    "        self.age = age\n",
    "\n",
    "    def bark(self):\n",
    "        print(\"Woof! My name is\", self.name, \"and I'm\", self.age, \"years old.\")\n",
    "        \n",
    "In this example, we defined a Dog class with a constructor (__init__) and a method bark. \n",
    "The constructor takes two arguments, name and age, and initializes two instance variables\n",
    "(self.name and self.age) with these values.The bark method simply prints a message with\n",
    "the dog's name and age.        \n",
    "\n",
    "The self parameter in the constructor and methods refers to the instance of the class that \n",
    "is being created or called.It allows you to access instance variables and methods within the class."
   ]
  },
  {
   "cell_type": "code",
   "execution_count": null,
   "id": "a50129da",
   "metadata": {},
   "outputs": [],
   "source": []
  },
  {
   "cell_type": "code",
   "execution_count": null,
   "id": "115defa6",
   "metadata": {},
   "outputs": [],
   "source": [
    "#Question 23: Write a Python class named Rectangle constructed by a length and width and a method which will compute the area of a rectangle\n",
    "\n",
    "class Rectangle:\n",
    "    def __init__(self, length, width):\n",
    "        self.length = length\n",
    "        self.width = width\n",
    "    \n",
    "    def area(self):\n",
    "        return self.length * self.width\n",
    "    \n",
    "rectangle = Rectangle(5, 3)\n",
    "print(rectangle.area())"
   ]
  },
  {
   "cell_type": "code",
   "execution_count": null,
   "id": "cb2a3f11",
   "metadata": {},
   "outputs": [],
   "source": []
  },
  {
   "cell_type": "code",
   "execution_count": null,
   "id": "0cee436f",
   "metadata": {},
   "outputs": [],
   "source": [
    "#Question 24: Write a Python class named Circle constructed by a radius and two methods which will compute the area and the \n",
    "#perimeter of a circle\n",
    "\n",
    "class Circle:\n",
    "    def __init__(self, radius):\n",
    "        self.radius = radius\n",
    "    \n",
    "    def area(self):\n",
    "        return 3.14 * self.radius ** 2\n",
    "    \n",
    "    def perimeter(self):\n",
    "        return 2 * 3.14 * self.radius\n",
    "    \n",
    "circle = Circle(5)\n",
    "print(circle.area())\n",
    "print(circle.perimeter())  "
   ]
  },
  {
   "cell_type": "code",
   "execution_count": null,
   "id": "9c2750ea",
   "metadata": {},
   "outputs": [],
   "source": []
  },
  {
   "cell_type": "code",
   "execution_count": null,
   "id": "7f5d4a61",
   "metadata": {},
   "outputs": [],
   "source": [
    "#Question 25: Explain Inheritance in Python with an example? What is init? Or What Is A Constructor In Python?\n",
    "\n",
    "'''Inheritance is a concept in object-oriented programming (OOP) where one class \n",
    "(called the child or subclass) can inherit the attributes and methods of another\n",
    "class (called the parent or superclass).\n",
    "The child class can then use these inherited attributes and methods,\n",
    "as well as add new attributes and methods of its own.\n",
    "\n",
    "\n",
    "he __init__ method in Python is a special method that gets called when an instance of a class is created. \n",
    "It is used to initialize the attributes of the instance with the values passed to the constructor.'''\n",
    "\n",
    "class Animal:\n",
    "    def __init__(self, name):\n",
    "        self.name = name\n",
    "    \n",
    "    def eat(self):\n",
    "        print(f\"{self.name} is sleeping.\")\n",
    "    \n",
    "    def sleep(self):\n",
    "        print(f\"{self.name} is eating.\")\n",
    "        \n",
    "\n",
    "class Dog(Animal):\n",
    "    def bark(self):\n",
    "        print(f\"{self.name} is barking.\")\n",
    "        \n",
    "my_dog = Dog(\"Tommy\")\n",
    "my_dog.bark()\n",
    "my_dog.eat()"
   ]
  },
  {
   "cell_type": "code",
   "execution_count": null,
   "id": "15bdeaa7",
   "metadata": {},
   "outputs": [],
   "source": []
  },
  {
   "cell_type": "code",
   "execution_count": null,
   "id": "1cc1fb35",
   "metadata": {},
   "outputs": [],
   "source": [
    "#Question 26: What is Instantiation in terms of OOP terminology?\n",
    "\n",
    "Instantiation is a term used in object-oriented programming (OOP) to refer to the process\n",
    "of creating an instance of a class. In simpler terms, it means creating an object from a class.\n",
    "\n",
    "When a class is defined, it serves as a blueprint for creating objects of that class. \n",
    "An object is created by calling the class name."
   ]
  },
  {
   "cell_type": "code",
   "execution_count": null,
   "id": "85e9df33",
   "metadata": {},
   "outputs": [],
   "source": []
  },
  {
   "cell_type": "code",
   "execution_count": null,
   "id": "4f91056b",
   "metadata": {},
   "outputs": [],
   "source": [
    "#Question 27: What is used to check whether an object o is an instance of class A?\n",
    "\n",
    "In Python, you can use the isinstance() function to check whether an object is an instance of a particular class.\n",
    "The isinstance() function takes two arguments: the object you want to check, and the class you want to check against."
   ]
  },
  {
   "cell_type": "code",
   "execution_count": null,
   "id": "e85aa405",
   "metadata": {},
   "outputs": [],
   "source": []
  },
  {
   "cell_type": "code",
   "execution_count": null,
   "id": "6f2bc87f",
   "metadata": {},
   "outputs": [],
   "source": [
    "#Question 28: What relationship is appropriate for Course and Faculty?\n",
    "\n",
    "The appropriate relationship between the Course and Faculty classes would be a many-to-many relationship,\n",
    "where a course can have many faculty members and a faculty member can teach multiple courses."
   ]
  },
  {
   "cell_type": "code",
   "execution_count": null,
   "id": "5f8b87e4",
   "metadata": {},
   "outputs": [],
   "source": []
  },
  {
   "cell_type": "code",
   "execution_count": null,
   "id": "470b5902",
   "metadata": {},
   "outputs": [],
   "source": [
    "#Question 29: What relationship is appropriate for Student and Person?\n",
    "\n",
    "The appropriate relationship between the student and person would be inheritance."
   ]
  }
 ],
 "metadata": {
  "kernelspec": {
   "display_name": "Python 3 (ipykernel)",
   "language": "python",
   "name": "python3"
  },
  "language_info": {
   "codemirror_mode": {
    "name": "ipython",
    "version": 3
   },
   "file_extension": ".py",
   "mimetype": "text/x-python",
   "name": "python",
   "nbconvert_exporter": "python",
   "pygments_lexer": "ipython3",
   "version": "3.9.13"
  }
 },
 "nbformat": 4,
 "nbformat_minor": 5
}
